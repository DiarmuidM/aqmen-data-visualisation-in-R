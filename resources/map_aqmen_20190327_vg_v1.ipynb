{
 "cells": [
  {
   "cell_type": "markdown",
   "metadata": {},
   "source": [
    "# ipyleaflet Map\n",
    "\n",
    "This (short notebook) looks at ipyleaflet map.\n",
    "\n",
    "Next Actions: Demo to workshop\n",
    "\n",
    "Author: Professor Vernon Gayle Orcid id: http://orcid.org/0000-0002-1929-5983\n",
    "\n",
    "Project: AQMEN Workshops\n",
    "\n",
    "Latest Update: 28th March 2019\n",
    "\n"
   ]
  },
  {
   "cell_type": "markdown",
   "metadata": {},
   "source": [
    "## ipyleaflet\n",
    "\n",
    "Read me\n",
    "\n",
    "https://ipyleaflet.readthedocs.io/en/latest/index.html\n",
    "\n",
    "\n"
   ]
  },
  {
   "cell_type": "markdown",
   "metadata": {},
   "source": [
    "### instalation\n",
    "\n",
    "ipyleaflet must first be installed \n",
    "\n",
    "e.g. type\n",
    "\n",
    "C:\\Users\\vgayle>conda install -c conda-forge ipyleaflet\n",
    "\n",
    "Further information is at\n",
    "https://ipyleaflet.readthedocs.io/en/latest/installation.html#using-conda\n",
    "\n"
   ]
  },
  {
   "cell_type": "code",
   "execution_count": 27,
   "metadata": {
    "scrolled": false
   },
   "outputs": [
    {
     "data": {
      "application/vnd.jupyter.widget-view+json": {
       "model_id": "3943b66c2bbd4f8e85a08f4c5b0e4676",
       "version_major": 2,
       "version_minor": 0
      },
      "text/plain": [
       "Map(basemap={'url': 'https://{s}.tile.openstreetmap.org/{z}/{x}/{y}.png', 'max_zoom': 19, 'attribution': 'Map …"
      ]
     },
     "metadata": {},
     "output_type": "display_data"
    }
   ],
   "source": [
    "# import ipyleaflet\n",
    "\n",
    "from ipyleaflet import Map\n",
    "\n",
    "# draw the map\n",
    "# the coordinates for the University of Edinburgh are 55.9445° N, 3.1892° W\n",
    "\n",
    "Map(center=[55.9445, -3.1892], zoom=99)"
   ]
  },
  {
   "cell_type": "markdown",
   "metadata": {},
   "source": [
    "**Note that the Leaflet has shown the approriate attribution information in the bottom left corner**\n",
    "\n",
    "OpenStreetMap® is open data, licensed under the Open Data Commons Open Database License (ODbL) by the OpenStreetMap Foundation (OSMF).\n",
    "\n",
    "You are free to copy, distribute, transmit and adapt the data, as long as you credit OpenStreetMap and its contributors. If you alter or build upon our data, you may distribute the result only under the same licence.\n",
    "\n",
    "see https://www.openstreetmap.org/copyright\n"
   ]
  },
  {
   "cell_type": "markdown",
   "metadata": {},
   "source": [
    "_This is the same map data that is on their 'open source' website_\n",
    "https://www.openstreetmap.org/search?commit=Go&query=55.9445%C2%B0+N%2C+3.1892%C2%B0+W#map=16/55.9440/-3.1877"
   ]
  },
  {
   "cell_type": "markdown",
   "metadata": {},
   "source": [
    "END OF FILE"
   ]
  }
 ],
 "metadata": {
  "kernelspec": {
   "display_name": "Python 3",
   "language": "python",
   "name": "python3"
  },
  "language_info": {
   "codemirror_mode": {
    "name": "ipython",
    "version": 3
   },
   "file_extension": ".py",
   "mimetype": "text/x-python",
   "name": "python",
   "nbconvert_exporter": "python",
   "pygments_lexer": "ipython3",
   "version": "3.7.1"
  }
 },
 "nbformat": 4,
 "nbformat_minor": 2
}
