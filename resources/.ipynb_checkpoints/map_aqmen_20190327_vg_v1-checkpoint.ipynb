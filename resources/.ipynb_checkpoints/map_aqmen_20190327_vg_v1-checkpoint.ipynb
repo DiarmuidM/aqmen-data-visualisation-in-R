{
 "cells": [
  {
   "cell_type": "markdown",
   "metadata": {},
   "source": [
    "# ipyleaflet Map\n",
    "\n",
    "This (short notebook) looks at ipyleaflet map.\n",
    "\n",
    "Next Actions: Demo to workshop\n",
    "\n",
    "Author: Professor Vernon Gayle Orcid id: http://orcid.org/0000-0002-1929-5983\n",
    "\n",
    "Project: AQMEN Workshops\n",
    "\n",
    "Latest Update: 28th March 2019\n",
    "\n"
   ]
  },
  {
   "cell_type": "markdown",
   "metadata": {},
   "source": [
    "## ipyleaflet\n",
    "\n",
    "Read me\n",
    "\n",
    "https://ipyleaflet.readthedocs.io/en/latest/index.html\n",
    "\n",
    "\n"
   ]
  },
  {
   "cell_type": "markdown",
   "metadata": {},
   "source": [
    "### instalation\n",
    "\n",
    "ipyleaflet must first be installed \n",
    "\n",
    "e.g. type\n",
    "\n",
    "C:\\Users\\vgayle>conda install -c conda-forge ipyleaflet\n",
    "\n",
    "Further information is at\n",
    "https://ipyleaflet.readthedocs.io/en/latest/installation.html#using-conda\n",
    "\n"
   ]
  },
  {
   "cell_type": "code",
   "execution_count": 3,
   "metadata": {
    "scrolled": false
   },
   "outputs": [
    {
     "name": "stdout",
     "output_type": "stream",
     "text": [
      "Imported\n"
     ]
    },
    {
     "data": {
      "application/vnd.jupyter.widget-view+json": {
       "model_id": "4ec279e8c23540e3b0f223a486ab285d",
       "version_major": 2,
       "version_minor": 0
      },
      "text/html": [
       "<p>Failed to display Jupyter Widget of type <code>Map</code>.</p>\n",
       "<p>\n",
       "  If you're reading this message in the Jupyter Notebook or JupyterLab Notebook, it may mean\n",
       "  that the widgets JavaScript is still loading. If this message persists, it\n",
       "  likely means that the widgets JavaScript library is either not installed or\n",
       "  not enabled. See the <a href=\"https://ipywidgets.readthedocs.io/en/stable/user_install.html\">Jupyter\n",
       "  Widgets Documentation</a> for setup instructions.\n",
       "</p>\n",
       "<p>\n",
       "  If you're reading this message in another frontend (for example, a static\n",
       "  rendering on GitHub or <a href=\"https://nbviewer.jupyter.org/\">NBViewer</a>),\n",
       "  it may mean that your frontend doesn't currently support widgets.\n",
       "</p>\n"
      ],
      "text/plain": [
       "Map(basemap={'url': 'https://{s}.tile.openstreetmap.org/{z}/{x}/{y}.png', 'max_zoom': 19, 'attribution': 'Map data (c) <a href=\"https://openstreetmap.org\">OpenStreetMap</a> contributors'}, center=[55.9445, -3.1892], layers=(TileLayer(base=True, max_zoom=19, min_zoom=1, options=['attribution', 'detect_retina', 'max_zoom', 'min_zoom', 'tile_size']),), options=['attribution_control', 'basemap', 'bounce_at_zoom_limits', 'box_zoom', 'center', 'close_popup_on_click', 'double_click_zoom', 'dragging', 'inertia', 'inertia_deceleration', 'inertia_max_speed', 'interpolation', 'keyboard', 'keyboard_pan_offset', 'keyboard_zoom_offset', 'max_zoom', 'min_zoom', 'scroll_wheel_zoom', 'tap', 'tap_tolerance', 'touch_zoom', 'world_copy_jump', 'zoom', 'zoom_animation_threshold', 'zoom_control', 'zoom_start'], zoom=99)"
      ]
     },
     "metadata": {},
     "output_type": "display_data"
    }
   ],
   "source": [
    "# import ipyleaflet\n",
    "\n",
    "try:\n",
    "    from ipyleaflet import Map\n",
    "    print(\"Imported\")\n",
    "except:\n",
    "    print(\"Not imported\")\n",
    "\n",
    "# draw the map\n",
    "# the coordinates for the University of Edinburgh are 55.9445° N, 3.1892° W\n",
    "\n",
    "Map(center=[55.9445, -3.1892], zoom=99)"
   ]
  },
  {
   "cell_type": "markdown",
   "metadata": {},
   "source": [
    "**Note that the Leaflet has shown the approriate attribution information in the bottom left corner**\n",
    "\n",
    "OpenStreetMap® is open data, licensed under the Open Data Commons Open Database License (ODbL) by the OpenStreetMap Foundation (OSMF).\n",
    "\n",
    "You are free to copy, distribute, transmit and adapt the data, as long as you credit OpenStreetMap and its contributors. If you alter or build upon our data, you may distribute the result only under the same licence.\n",
    "\n",
    "see https://www.openstreetmap.org/copyright\n"
   ]
  },
  {
   "cell_type": "markdown",
   "metadata": {},
   "source": [
    "_This is the same map data that is on their 'open source' website_\n",
    "https://www.openstreetmap.org/search?commit=Go&query=55.9445%C2%B0+N%2C+3.1892%C2%B0+W#map=16/55.9440/-3.1877"
   ]
  },
  {
   "cell_type": "markdown",
   "metadata": {},
   "source": [
    "END OF FILE"
   ]
  }
 ],
 "metadata": {
  "kernelspec": {
   "display_name": "Python 3",
   "language": "python",
   "name": "python3"
  },
  "language_info": {
   "codemirror_mode": {
    "name": "ipython",
    "version": 3
   },
   "file_extension": ".py",
   "mimetype": "text/x-python",
   "name": "python",
   "nbconvert_exporter": "python",
   "pygments_lexer": "ipython3",
   "version": "3.6.4"
  }
 },
 "nbformat": 4,
 "nbformat_minor": 2
}
